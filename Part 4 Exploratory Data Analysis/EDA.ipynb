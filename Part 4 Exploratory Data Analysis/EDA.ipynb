{
 "cells": [
  {
   "cell_type": "markdown",
   "id": "58034e65-a83d-45af-a82e-b89cde25cad1",
   "metadata": {},
   "source": [
    "### The Exploratory Data Analysis "
   ]
  },
  {
   "cell_type": "markdown",
   "id": "06a7e6f6-9e27-42bf-a713-214732cf0918",
   "metadata": {},
   "source": [
    "**Exploratory Data Analysis (EDA)** is an analysis approach that identifies general patterns in the data. These patterns include outliers and features of the data that might be unexpected. "
   ]
  },
  {
   "cell_type": "markdown",
   "id": "2782451d-d89c-425e-b720-5ed886708a37",
   "metadata": {},
   "source": [
    "#### Remember: All data has stories to tell."
   ]
  },
  {
   "cell_type": "markdown",
   "id": "0ffe6208-ac81-4512-be9d-1cc2482280af",
   "metadata": {},
   "source": [
    "### Discovering"
   ]
  },
  {
   "cell_type": "markdown",
   "id": "694ae3db-8052-4b93-96ec-57c42bf498b7",
   "metadata": {},
   "source": [
    "### Joining"
   ]
  },
  {
   "cell_type": "markdown",
   "id": "bf14a722-44ba-4c6c-89eb-d07e0eb02f04",
   "metadata": {},
   "source": [
    "### Validating"
   ]
  },
  {
   "cell_type": "markdown",
   "id": "8bfdf0cc-45e7-4409-84ea-762a908bdcd5",
   "metadata": {},
   "source": [
    "### Structuring"
   ]
  },
  {
   "cell_type": "markdown",
   "id": "c195472d-7b52-4463-ba32-f68926428482",
   "metadata": {},
   "source": [
    "### Cleaning"
   ]
  },
  {
   "cell_type": "markdown",
   "id": "9ce81c4d-3a96-41fb-b32e-49a0bd92e197",
   "metadata": {},
   "source": [
    "### Presentation\n",
    "\n",
    "You share your dataset with a peer"
   ]
  },
  {
   "cell_type": "code",
   "execution_count": null,
   "id": "cc26cd19-85a6-47ba-b428-64409c035ff5",
   "metadata": {},
   "outputs": [],
   "source": []
  }
 ],
 "metadata": {
  "kernelspec": {
   "display_name": "Python 3 (ipykernel)",
   "language": "python",
   "name": "python3"
  },
  "language_info": {
   "codemirror_mode": {
    "name": "ipython",
    "version": 3
   },
   "file_extension": ".py",
   "mimetype": "text/x-python",
   "name": "python",
   "nbconvert_exporter": "python",
   "pygments_lexer": "ipython3",
   "version": "3.11.5"
  }
 },
 "nbformat": 4,
 "nbformat_minor": 5
}
