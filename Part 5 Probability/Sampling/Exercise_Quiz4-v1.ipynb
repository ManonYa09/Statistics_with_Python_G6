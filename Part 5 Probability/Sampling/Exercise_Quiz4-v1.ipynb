{
 "cells": [
  {
   "cell_type": "code",
   "execution_count": 1,
   "id": "05ea514b-78fa-42ba-b0c3-59198852cd59",
   "metadata": {},
   "outputs": [],
   "source": []
  },
  {
   "cell_type": "code",
   "execution_count": 2,
   "id": "81f5c014-ae54-458e-a7e7-ddac8269a134",
   "metadata": {},
   "outputs": [],
   "source": [
    "df = pd.read_csv('https://raw.githubusercontent.com/ManonYa09/Statistics_with_Python_G6/main/Dataset/2.%20Bank%20Customer%20Churn%20Prediction.csv')"
   ]
  },
  {
   "cell_type": "markdown",
   "id": "8b6a44f3-fdce-4539-8fe2-e581c698fcef",
   "metadata": {},
   "source": [
    "1. Identify the top 10% of customers with the highest balances.\n",
    "2. Compare the average age by gender and country (using `groupby` function but just so, only mean std min and max).\n",
    "3. What is the probability that a randomly selected customer (2000) has an estimated salary above the mean salary?\n",
    "4. Using z-scores or empirical rule, identify outliers in the age distribution.\n",
    "5. Draw a sample of 500 customers and estimate the mean and median balance. How does it compare to the population values?\n",
    "6. Simulate 50 samples of 100 customers each (from population data) and calculate the mean age . Plot the distribution of these sample means.\n",
    "   \n",
    "```py\n",
    "estimate_list = []\n",
    "for i in range(10000):\n",
    "    estimate_list.append(education_districtwise['OVERALL_LI'].sample(n=50, replace=True).mean())\n",
    "estimate_df = pd.DataFrame(data={'estimate': estimate_list})\n",
    "```"
   ]
  },
  {
   "cell_type": "code",
   "execution_count": 1,
   "id": "ea6bd850-023e-4333-9e22-56b1f72612ed",
   "metadata": {},
   "outputs": [
    {
     "name": "stdout",
     "output_type": "stream",
     "text": [
      "Object `Proportion` not found.\n"
     ]
    }
   ],
   "source": [
    "Reseach Question: What is difference between Probability and Proportion?"
   ]
  },
  {
   "cell_type": "code",
   "execution_count": null,
   "id": "954b269a-73b3-49c9-bdcb-33aa7030dc33",
   "metadata": {},
   "outputs": [],
   "source": []
  }
 ],
 "metadata": {
  "kernelspec": {
   "display_name": "Python 3 (ipykernel)",
   "language": "python",
   "name": "python3"
  },
  "language_info": {
   "codemirror_mode": {
    "name": "ipython",
    "version": 3
   },
   "file_extension": ".py",
   "mimetype": "text/x-python",
   "name": "python",
   "nbconvert_exporter": "python",
   "pygments_lexer": "ipython3",
   "version": "3.11.5"
  }
 },
 "nbformat": 4,
 "nbformat_minor": 5
}
