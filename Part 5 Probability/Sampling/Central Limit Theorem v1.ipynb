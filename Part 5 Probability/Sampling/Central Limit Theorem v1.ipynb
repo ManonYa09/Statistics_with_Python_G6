{
 "cells": [
  {
   "cell_type": "markdown",
   "id": "60879081-f54d-43af-ab3c-1bbf085c2989",
   "metadata": {},
   "source": [
    "**Table of Content:**\n",
    "\n",
    "- [1. Sampling Distribution](#1)\n",
    " \n",
    "    - [1.1 Type of Sampling Distribution](#1.1)\n",
    "  \n",
    "- [2. The central limit theorem](#1)"
   ]
  },
  {
   "cell_type": "code",
   "execution_count": 1,
   "id": "06273668-1508-4310-9945-d34545e5eacf",
   "metadata": {},
   "outputs": [],
   "source": [
    "import pandas as pd # For performing data operations, cleaning, and descriptive statistics,...\n",
    "import matplotlib.pyplot as plt # data visualzation \n",
    "import seaborn as sns ## data visualization advance features easy to plot than matplotlib\n",
    "import numpy as np ## For array generation \n",
    "from scipy import stats ## For statistical analysis, such as calculating Z-scores\n",
    "from scipy.stats import norm\n",
    "import warnings ## To suppress warning messages that could clutter the output\n",
    "\n",
    "warnings.filterwarnings('ignore')"
   ]
  },
  {
   "cell_type": "markdown",
   "id": "f39fd1e2-f37f-4f1b-99fe-39fa434e64e4",
   "metadata": {},
   "source": [
    "## 1. Sampling Distribution\n"
   ]
  },
  {
   "cell_type": "markdown",
   "id": "a7064651-b98e-4d7b-9ec6-f2b96af17308",
   "metadata": {},
   "source": [
    "#### 1.2 Type of Samping Distribution"
   ]
  },
  {
   "cell_type": "markdown",
   "id": "4686dcb7-be76-4800-acff-fce303c00e22",
   "metadata": {},
   "source": [
    "- **Random Sampling**\n",
    "- **Systematic Sampling**\n",
    "- **Cluster Sampling**\n",
    "- **Weighted Sampling**"
   ]
  },
  {
   "cell_type": "markdown",
   "id": "0de1c306-3098-4b83-8c18-f5388c8e420c",
   "metadata": {},
   "source": [
    "#### Random Sampling"
   ]
  },
  {
   "cell_type": "markdown",
   "id": "45025f0c-976a-46f5-9a0a-c120c0a60a7f",
   "metadata": {},
   "source": [
    "### The Central Limit Theorem\n",
    "\n",
    "The **central limit theorem** stats that the means of larfe enough samples of any polulation will be normally distributed around the populoation mean.\n",
    "\n",
    "- A sample size of 30 or more is typically required (n>30)"
   ]
  },
  {
   "cell_type": "code",
   "execution_count": 18,
   "id": "cfec08a5-6a06-4838-b4db-39ac5f9bf3b8",
   "metadata": {},
   "outputs": [],
   "source": [
    "def sampling_distribution_of_mean_from_df(df, column_name, sample_size, num_samples):\n",
    "    \"\"\"\n",
    "    Generates a sampling distribution of the mean from a specified column in a DataFrame.\n",
    "    \n",
    "    Parameters:\n",
    "        df (pandas DataFrame): The DataFrame containing the population data.\n",
    "        column_name (str): The name of the column to sample from.\n",
    "        sample_size (int): The number of data points in each sample.\n",
    "        num_samples (int): The number of samples to draw.\n",
    "    \n",
    "    Returns:\n",
    "        sample_means (numpy array): An array containing the means of all samples.\n",
    "    \"\"\"\n",
    "    sample_means = np.empty(num_samples)\n",
    "    \n",
    "    for i in range(num_samples):\n",
    "        sample = df[column_name].sample(n=sample_size, replace=True)\n",
    "        sample_means[i] = sample.mean()\n",
    "    \n",
    "    return sample_means"
   ]
  },
  {
   "cell_type": "code",
   "execution_count": null,
   "id": "cd744e60-2415-48b9-9f82-2d9d3f5b57fe",
   "metadata": {},
   "outputs": [],
   "source": []
  }
 ],
 "metadata": {
  "kernelspec": {
   "display_name": "Python 3 (ipykernel)",
   "language": "python",
   "name": "python3"
  },
  "language_info": {
   "codemirror_mode": {
    "name": "ipython",
    "version": 3
   },
   "file_extension": ".py",
   "mimetype": "text/x-python",
   "name": "python",
   "nbconvert_exporter": "python",
   "pygments_lexer": "ipython3",
   "version": "3.11.5"
  }
 },
 "nbformat": 4,
 "nbformat_minor": 5
}
